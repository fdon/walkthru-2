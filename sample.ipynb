{
 "cells": [
  {
   "cell_type": "markdown",
   "id": "81c6af7b-0efc-4585-b814-83a4b5d1dcbc",
   "metadata": {},
   "source": [
    "## Walkthru sample notebook "
   ]
  },
  {
   "cell_type": "markdown",
   "id": "7f1578f7-8f58-4915-ac3f-1dd62dfeabba",
   "metadata": {},
   "source": [
    "#Calculate 1+1"
   ]
  },
  {
   "cell_type": "code",
   "execution_count": 6,
   "id": "36f3a6c5-a113-48ff-87a4-72e59e41f68e",
   "metadata": {},
   "outputs": [
    {
     "data": {
      "text/plain": [
       "2"
      ]
     },
     "execution_count": 6,
     "metadata": {},
     "output_type": "execute_result"
    }
   ],
   "source": [
    "1+1"
   ]
  },
  {
   "cell_type": "code",
   "execution_count": 7,
   "id": "b4820dd6-e221-43e6-ae61-45e77c350e17",
   "metadata": {},
   "outputs": [],
   "source": [
    "from numpy import *"
   ]
  },
  {
   "cell_type": "markdown",
   "id": "595e4870-299a-4479-888b-06b23debc98c",
   "metadata": {},
   "source": [
    "Calculate sin(x)"
   ]
  },
  {
   "cell_type": "code",
   "execution_count": 5,
   "id": "50dc9be7-1f15-4dc6-9a73-af285a7743df",
   "metadata": {},
   "outputs": [
    {
     "data": {
      "text/plain": [
       "array([0.90929743, 1.        ])"
      ]
     },
     "execution_count": 5,
     "metadata": {},
     "output_type": "execute_result"
    }
   ],
   "source": [
    "a=array([2,pi/2])\n",
    "sin(a)"
   ]
  },
  {
   "cell_type": "code",
   "execution_count": null,
   "id": "0ab851f2-047e-463a-89a9-3c54a13bd55e",
   "metadata": {},
   "outputs": [],
   "source": []
  },
  {
   "cell_type": "code",
   "execution_count": null,
   "id": "ccbe4ffd-e037-4267-9712-1f27eee900b6",
   "metadata": {},
   "outputs": [],
   "source": []
  }
 ],
 "metadata": {
  "kernelspec": {
   "display_name": "Python 3 (ipykernel)",
   "language": "python",
   "name": "python3"
  },
  "language_info": {
   "codemirror_mode": {
    "name": "ipython",
    "version": 3
   },
   "file_extension": ".py",
   "mimetype": "text/x-python",
   "name": "python",
   "nbconvert_exporter": "python",
   "pygments_lexer": "ipython3",
   "version": "3.10.12"
  }
 },
 "nbformat": 4,
 "nbformat_minor": 5
}
